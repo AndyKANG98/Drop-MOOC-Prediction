{
 "cells": [
  {
   "cell_type": "code",
   "execution_count": 62,
   "metadata": {},
   "outputs": [
    {
     "name": "stdout",
     "output_type": "stream",
     "text": [
      "The autoreload extension is already loaded. To reload it, use:\n",
      "  %reload_ext autoreload\n",
      "load course date info over!\n",
      "number of courses: 39\n",
      "load course object info over!\n",
      "number of courses: 39\n",
      "number of moduels: 26750\n",
      "load course object info over!\n",
      "size of log data: 4677908\n",
      "number of enrollment_ids: 72395\n",
      "load enrollment info over!\n",
      "number of courses: 39\n",
      "number of enrollments: 72395\n",
      "number of uers:  53870\n",
      "load truth info over!\n",
      "number of labels: 72395\n",
      "load course date info over!\n",
      "number of courses: 39\n",
      "load course object info over!\n",
      "number of courses: 39\n",
      "number of moduels: 26750\n",
      "load course object info over!\n",
      "size of log data: 1548480\n",
      "number of enrollment_ids: 24013\n",
      "load enrollment info over!\n",
      "number of courses: 39\n",
      "number of enrollments: 24013\n",
      "number of uers:  21266\n",
      "load truth info over!\n",
      "number of labels: 24013\n"
     ]
    }
   ],
   "source": [
    "%load_ext autoreload\n",
    "%autoreload 2\n",
    "from preprocess import Preprocessor\n",
    "from sklearn.ensemble import RandomForestClassifier\n",
    "from sklearn.model_selection import cross_val_score\n",
    "\n",
    "log_train_path = \"data/train/log_train.csv\"\n",
    "enroll_train_path = \"data/train/enrollment_train.csv\"\n",
    "truth_train_path = \"data/train/truth_train.csv\"\n",
    "\n",
    "log_test_path = \"data/test/log_test.csv\"\n",
    "enroll_test_path = \"data/test/enrollment_test.csv\"\n",
    "truth_test_path = \"data/test/truth_test.csv\"\n",
    "\n",
    "p_train = Preprocessor(log_train_path, enroll_train_path, truth_train_path)\n",
    "p_test = Preprocessor(log_test_path, enroll_test_path, truth_test_path)"
   ]
  },
  {
   "cell_type": "code",
   "execution_count": 63,
   "metadata": {},
   "outputs": [
    {
     "name": "stdout",
     "output_type": "stream",
     "text": [
      "event_count features extracted! 1.258635 seconds taken\n",
      "Shape of the event_count dataframe:  (72395, 8)\n",
      "weekly_event_count features extracted! 2.348721 seconds taken\n",
      "Shape of the weekly_event_count dataframe:  (72395, 7)\n",
      "weekly_session_count features extracted! 47.782252 seconds taken\n",
      "Shape of the weekly_session_count dataframe:  (72395, 7)\n",
      "sll features extracted! 51.563173 seconds taken\n",
      "Shape of the whole features dataframe:  (72395, 20)\n",
      "Getting raw values for X, y done!\n",
      "The shape of X: (72395, 19); shape of y: (72395,)\n"
     ]
    }
   ],
   "source": [
    "X_train_all, y_train_all = p_train.get_values_all()"
   ]
  },
  {
   "cell_type": "code",
   "execution_count": 54,
   "metadata": {},
   "outputs": [
    {
     "name": "stdout",
     "output_type": "stream",
     "text": [
      "event_count features extracted! 1.190816 seconds taken\n",
      "Shape of the event_count dataframe:  (72395, 8)\n",
      "weekly_event_count features extracted! 1.544870 seconds taken\n",
      "Shape of the weekly_event_count dataframe:  (72395, 7)\n",
      "session_count features extracted! 27.727979 seconds taken\n",
      "Shape of the session_count dataframe:  (72395, 2)\n",
      "sll features extracted! 30.843246 seconds taken\n",
      "Shape of the whole features dataframe:  (72395, 15)\n",
      "Getting partial X, y done!\n",
      "The shape of X: (37975, 14); shape of y: (37975,)\n",
      "The ratio of 1 in labels:  60.42%\n"
     ]
    }
   ],
   "source": [
    "X_train_balance, y_train_balance = p_train.get_values_partial(0.4)"
   ]
  },
  {
   "cell_type": "code",
   "execution_count": 64,
   "metadata": {},
   "outputs": [
    {
     "name": "stdout",
     "output_type": "stream",
     "text": [
      "event_count features extracted! 0.379999 seconds taken\n",
      "Shape of the event_count dataframe:  (24013, 8)\n",
      "weekly_event_count features extracted! 0.808985 seconds taken\n",
      "Shape of the weekly_event_count dataframe:  (24013, 7)\n",
      "weekly_session_count features extracted! 15.411297 seconds taken\n",
      "Shape of the weekly_session_count dataframe:  (24013, 7)\n",
      "sll features extracted! 16.692008 seconds taken\n",
      "Shape of the whole features dataframe:  (24013, 20)\n",
      "Getting raw values for X, y done!\n",
      "The shape of X: (24013, 19); shape of y: (24013,)\n"
     ]
    }
   ],
   "source": [
    "X_test, y_test = p_test.get_values_all()"
   ]
  },
  {
   "cell_type": "code",
   "execution_count": 65,
   "metadata": {},
   "outputs": [
    {
     "data": {
      "text/plain": [
       "RandomForestClassifier(bootstrap=True, class_weight=None, criterion='gini',\n",
       "            max_depth=None, max_features='auto', max_leaf_nodes=None,\n",
       "            min_impurity_decrease=0.0, min_impurity_split=None,\n",
       "            min_samples_leaf=1, min_samples_split=2,\n",
       "            min_weight_fraction_leaf=0.0, n_estimators=500, n_jobs=-1,\n",
       "            oob_score=False, random_state=520, verbose=0, warm_start=False)"
      ]
     },
     "execution_count": 65,
     "metadata": {},
     "output_type": "execute_result"
    }
   ],
   "source": [
    "clf_all = RandomForestClassifier(n_estimators=500, n_jobs=-1, random_state=520)\n",
    "clf_all.fit(X_train_all, y_train_all)"
   ]
  },
  {
   "cell_type": "code",
   "execution_count": 66,
   "metadata": {},
   "outputs": [
    {
     "name": "stdout",
     "output_type": "stream",
     "text": [
      "             precision    recall  f1-score   support\n",
      "\n",
      "          0       0.74      0.57      0.64      4902\n",
      "          1       0.90      0.95      0.92     19111\n",
      "\n",
      "avg / total       0.86      0.87      0.86     24013\n",
      "\n"
     ]
    }
   ],
   "source": [
    "from sklearn.metrics import classification_report\n",
    "print(classification_report(y_test, clf_all.predict(X_test)))"
   ]
  },
  {
   "cell_type": "code",
   "execution_count": 58,
   "metadata": {},
   "outputs": [
    {
     "data": {
      "text/plain": [
       "RandomForestClassifier(bootstrap=True, class_weight=None, criterion='gini',\n",
       "            max_depth=None, max_features='auto', max_leaf_nodes=None,\n",
       "            min_impurity_decrease=0.0, min_impurity_split=None,\n",
       "            min_samples_leaf=1, min_samples_split=2,\n",
       "            min_weight_fraction_leaf=0.0, n_estimators=500, n_jobs=-1,\n",
       "            oob_score=False, random_state=520, verbose=0, warm_start=False)"
      ]
     },
     "execution_count": 58,
     "metadata": {},
     "output_type": "execute_result"
    }
   ],
   "source": [
    "clf_partial = RandomForestClassifier(n_estimators=500, n_jobs=-1, random_state=520)\n",
    "clf_partial.fit(X_train_balance, y_train_balance)"
   ]
  },
  {
   "cell_type": "code",
   "execution_count": 59,
   "metadata": {},
   "outputs": [
    {
     "name": "stdout",
     "output_type": "stream",
     "text": [
      "             precision    recall  f1-score   support\n",
      "\n",
      "          0       0.59      0.71      0.64      4902\n",
      "          1       0.92      0.87      0.90     19111\n",
      "\n",
      "avg / total       0.85      0.84      0.84     24013\n",
      "\n"
     ]
    }
   ],
   "source": [
    "from sklearn.metrics import classification_report\n",
    "print(classification_report(y_test, clf_partial.predict(X_test)))"
   ]
  },
  {
   "cell_type": "code",
   "execution_count": 70,
   "metadata": {},
   "outputs": [
    {
     "name": "stdout",
     "output_type": "stream",
     "text": [
      "event_count features extracted! 1.379337 seconds taken\n",
      "Shape of the event_count dataframe:  (72395, 8)\n",
      "weekly_event_count features extracted! 1.512926 seconds taken\n",
      "Shape of the weekly_event_count dataframe:  (72395, 7)\n",
      "weekly_session_count features extracted! 50.557062 seconds taken\n",
      "Shape of the weekly_session_count dataframe:  (72395, 6)\n",
      "All features extracted! 53.615899 seconds taken\n",
      "Shape of the whole features dataframe:  (72395, 20)\n"
     ]
    }
   ],
   "source": [
    "f = clf_all.feature_importances_\n",
    "c = p_train.get_features_all().columns"
   ]
  },
  {
   "cell_type": "code",
   "execution_count": 71,
   "metadata": {},
   "outputs": [
    {
     "data": {
      "text/plain": [
       "{'access_count': 0.15046517430736295,\n",
       " 'discussion_count': 0.037059672625547616,\n",
       " 'navigate_count': 0.09322651948261372,\n",
       " 'page_close_count': 0.10582247960769997,\n",
       " 'problem_count': 0.07999196829596014,\n",
       " 'video_count': 0.05923997479899466,\n",
       " 'wiki_count': 0.021377316802125693,\n",
       " 'week_one_event': 0.026758710091908024,\n",
       " 'week_two_event': 0.03845727813902135,\n",
       " 'week_three_event': 0.037540751006407094,\n",
       " 'week_four_event': 0.06167680930542194,\n",
       " 'week_five_event': 0.0773541997062687,\n",
       " 'week_six_event': 0.006393035384710254,\n",
       " 'week_one_session': 0.017295390978427222,\n",
       " 'week_two_session': 0.02432480102871223,\n",
       " 'week_three_session': 0.026945581744095313,\n",
       " 'week_four_session': 0.05026792788345937,\n",
       " 'week_five_session': 0.08154207954129963,\n",
       " 'week_six_session': 0.004260329269964542}"
      ]
     },
     "execution_count": 71,
     "metadata": {},
     "output_type": "execute_result"
    }
   ],
   "source": [
    "d={}\n",
    "for i in range(len(f)):\n",
    "    d[c[i+1]] = f[i]\n",
    "d"
   ]
  },
  {
   "cell_type": "code",
   "execution_count": null,
   "metadata": {},
   "outputs": [],
   "source": []
  }
 ],
 "metadata": {
  "kernelspec": {
   "display_name": "Python 3",
   "language": "python",
   "name": "python3"
  },
  "language_info": {
   "codemirror_mode": {
    "name": "ipython",
    "version": 3
   },
   "file_extension": ".py",
   "mimetype": "text/x-python",
   "name": "python",
   "nbconvert_exporter": "python",
   "pygments_lexer": "ipython3",
   "version": "3.6.5"
  }
 },
 "nbformat": 4,
 "nbformat_minor": 2
}
