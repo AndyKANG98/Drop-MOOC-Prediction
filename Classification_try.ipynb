{
 "cells": [
  {
   "cell_type": "code",
   "execution_count": 1,
   "metadata": {
    "collapsed": false
   },
   "outputs": [
    {
     "name": "stdout",
     "output_type": "stream",
     "text": [
      "load course date info over!\n",
      "('number of courses:', 39)\n",
      "load course object info over!\n",
      "('number of courses:', 39)\n",
      "('number of moduels:', 26750)\n",
      "load course object info over!\n",
      "('size of log data:', 4677908)\n",
      "('number of enrollment_ids:', 72395)\n",
      "load enrollment info over!\n",
      "('number of courses:', 39)\n",
      "('number of enrollments:', 72395)\n",
      "('number of uers: ', 53870)\n",
      "load truth info over!\n",
      "('number of labels:', 72395)\n",
      "load course date info over!\n",
      "('number of courses:', 39)\n",
      "load course object info over!\n",
      "('number of courses:', 39)\n",
      "('number of moduels:', 26750)\n",
      "load course object info over!\n",
      "('size of log data:', 1548480)\n",
      "('number of enrollment_ids:', 24013)\n",
      "load enrollment info over!\n",
      "('number of courses:', 39)\n",
      "('number of enrollments:', 24013)\n",
      "('number of uers: ', 21266)\n",
      "load truth info over!\n",
      "('number of labels:', 24013)\n"
     ]
    }
   ],
   "source": [
    "%load_ext autoreload\n",
    "%autoreload 2\n",
    "from preprocess import Preprocessor\n",
    "from sklearn.ensemble import RandomForestClassifier\n",
    "from sklearn.model_selection import cross_val_score\n",
    "\n",
    "p_train = Preprocessor('train')\n",
    "p_test = Preprocessor('test')"
   ]
  },
  {
   "cell_type": "code",
   "execution_count": 37,
   "metadata": {
    "collapsed": false
   },
   "outputs": [
    {
     "name": "stdout",
     "output_type": "stream",
     "text": [
      "event_count features extracted! 1.504299 seconds taken\n",
      "('Shape of the event_count dataframe: ', (72395, 8))\n",
      "weekly_session_count features extracted! 86.954636 seconds taken\n",
      "('Shape of the weekly_session_count dataframe: ', (72395, 6))\n",
      "problem_video_ratio features extracted! 3.519630 seconds taken\n",
      "('Shape of the problem_video dataframe: ', (72395, 3))\n",
      "All features extracted! 92.162784 seconds taken\n",
      "('Shape of the whole features dataframe: ', (72395, 16))\n",
      "Getting train data preprocessing done! 92.296410 seconds taken\n",
      "Getting raw values for X, y done!\n",
      "The shape of X: (72395, 12); shape of y: (72395,)\n"
     ]
    }
   ],
   "source": [
    "X_train_all, y_train_all = p_train.get_values_all()"
   ]
  },
  {
   "cell_type": "code",
   "execution_count": 38,
   "metadata": {
    "collapsed": false
   },
   "outputs": [
    {
     "name": "stdout",
     "output_type": "stream",
     "text": [
      "event_count features extracted! 0.471688 seconds taken\n",
      "('Shape of the event_count dataframe: ', (24013, 8))\n",
      "weekly_session_count features extracted! 26.699035 seconds taken\n",
      "('Shape of the weekly_session_count dataframe: ', (24013, 6))\n",
      "problem_video_ratio features extracted! 1.136959 seconds taken\n",
      "('Shape of the problem_video dataframe: ', (24013, 3))\n",
      "All features extracted! 28.369926 seconds taken\n",
      "('Shape of the whole features dataframe: ', (24013, 16))\n",
      "Getting test data preprocessing done! 28.414763 seconds taken\n",
      "Getting raw values for X, y done!\n",
      "The shape of X: (24013, 12); shape of y: (24013,)\n"
     ]
    }
   ],
   "source": [
    "X_test, y_test = p_test.get_values_all()"
   ]
  },
  {
   "cell_type": "code",
   "execution_count": 40,
   "metadata": {
    "collapsed": false
   },
   "outputs": [
    {
     "data": {
      "text/plain": [
       "RandomForestClassifier(bootstrap=True, class_weight=None, criterion='gini',\n",
       "            max_depth=None, max_features='auto', max_leaf_nodes=None,\n",
       "            min_impurity_decrease=0.0, min_impurity_split=None,\n",
       "            min_samples_leaf=1, min_samples_split=2,\n",
       "            min_weight_fraction_leaf=0.0, n_estimators=500, n_jobs=-1,\n",
       "            oob_score=False, random_state=520, verbose=0, warm_start=False)"
      ]
     },
     "execution_count": 40,
     "metadata": {},
     "output_type": "execute_result"
    }
   ],
   "source": [
    "clf_all = RandomForestClassifier(n_estimators=500, n_jobs=-1, random_state=520)\n",
    "clf_all.fit(X_train_all, y_train_all)"
   ]
  },
  {
   "cell_type": "code",
   "execution_count": 41,
   "metadata": {
    "collapsed": false
   },
   "outputs": [
    {
     "name": "stdout",
     "output_type": "stream",
     "text": [
      "              precision    recall  f1-score   support\n",
      "\n",
      "           0       0.74      0.57      0.64      4902\n",
      "           1       0.90      0.95      0.92     19111\n",
      "\n",
      "   micro avg       0.87      0.87      0.87     24013\n",
      "   macro avg       0.82      0.76      0.78     24013\n",
      "weighted avg       0.86      0.87      0.86     24013\n",
      "\n"
     ]
    }
   ],
   "source": [
    "from sklearn.metrics import classification_report\n",
    "print(classification_report(y_test, clf_all.predict(X_test)))"
   ]
  },
  {
   "cell_type": "code",
   "execution_count": null,
   "metadata": {
    "collapsed": true
   },
   "outputs": [],
   "source": []
  },
  {
   "cell_type": "markdown",
   "metadata": {},
   "source": [
    "### Feature Importance"
   ]
  },
  {
   "cell_type": "code",
   "execution_count": 13,
   "metadata": {
    "collapsed": false
   },
   "outputs": [
    {
     "name": "stdout",
     "output_type": "stream",
     "text": [
      "event_count features extracted! 1.217704 seconds taken\n",
      "Shape of the event_count dataframe:  (72395, 8)\n",
      "weekly_session_count features extracted! 51.340733 seconds taken\n",
      "Shape of the weekly_session_count dataframe:  (72395, 6)\n",
      "problem_video_ratio features extracted! 3.045905 seconds taken\n",
      "Shape of the problem_video dataframe:  (72395, 3)\n",
      "All features extracted! 55.734944 seconds taken\n",
      "Shape of the whole features dataframe:  (72395, 16)\n"
     ]
    }
   ],
   "source": [
    "f = clf_all.feature_importances_\n",
    "c = p_train.get_features_all().columns"
   ]
  },
  {
   "cell_type": "code",
   "execution_count": 14,
   "metadata": {
    "collapsed": false
   },
   "outputs": [
    {
     "data": {
      "text/plain": [
       "{'access_count': 0.15930482937723603,\n",
       " 'discussion_count': 0.04269388956217597,\n",
       " 'navigate_count': 0.09841600852514756,\n",
       " 'page_close_count': 0.09697023842232648,\n",
       " 'problem_count': 0.0692296509961611,\n",
       " 'video_count': 0.061399968295089785,\n",
       " 'wiki_count': 0.023401594378286227,\n",
       " 'week_one_session': 0.023761561767072562,\n",
       " 'week_two_session': 0.03402435521352029,\n",
       " 'week_three_session': 0.033797121619515834,\n",
       " 'week_four_session': 0.05919820710931555,\n",
       " 'week_five_session': 0.10147390902438054,\n",
       " 'week_six_session': 0.006813039525642023,\n",
       " 'problem_ratio': 0.11000736983283753,\n",
       " 'video_ratio': 0.07950825635129263}"
      ]
     },
     "execution_count": 14,
     "metadata": {},
     "output_type": "execute_result"
    }
   ],
   "source": [
    "d={}\n",
    "for i in range(len(f)):\n",
    "    d[c[i+1]] = f[i]\n",
    "d"
   ]
  },
  {
   "cell_type": "markdown",
   "metadata": {},
   "source": [
    "### Partial fit"
   ]
  },
  {
   "cell_type": "code",
   "execution_count": 54,
   "metadata": {
    "collapsed": false
   },
   "outputs": [
    {
     "name": "stdout",
     "output_type": "stream",
     "text": [
      "event_count features extracted! 1.190816 seconds taken\n",
      "Shape of the event_count dataframe:  (72395, 8)\n",
      "weekly_event_count features extracted! 1.544870 seconds taken\n",
      "Shape of the weekly_event_count dataframe:  (72395, 7)\n",
      "session_count features extracted! 27.727979 seconds taken\n",
      "Shape of the session_count dataframe:  (72395, 2)\n",
      "sll features extracted! 30.843246 seconds taken\n",
      "Shape of the whole features dataframe:  (72395, 15)\n",
      "Getting partial X, y done!\n",
      "The shape of X: (37975, 14); shape of y: (37975,)\n",
      "The ratio of 1 in labels:  60.42%\n"
     ]
    }
   ],
   "source": [
    "X_train_balance, y_train_balance = p_train.get_values_partial(0.4)"
   ]
  },
  {
   "cell_type": "code",
   "execution_count": 58,
   "metadata": {
    "collapsed": false
   },
   "outputs": [
    {
     "data": {
      "text/plain": [
       "RandomForestClassifier(bootstrap=True, class_weight=None, criterion='gini',\n",
       "            max_depth=None, max_features='auto', max_leaf_nodes=None,\n",
       "            min_impurity_decrease=0.0, min_impurity_split=None,\n",
       "            min_samples_leaf=1, min_samples_split=2,\n",
       "            min_weight_fraction_leaf=0.0, n_estimators=500, n_jobs=-1,\n",
       "            oob_score=False, random_state=520, verbose=0, warm_start=False)"
      ]
     },
     "execution_count": 58,
     "metadata": {},
     "output_type": "execute_result"
    }
   ],
   "source": [
    "clf_partial = RandomForestClassifier(n_estimators=500, n_jobs=-1, random_state=520)\n",
    "clf_partial.fit(X_train_balance, y_train_balance)"
   ]
  },
  {
   "cell_type": "code",
   "execution_count": 59,
   "metadata": {
    "collapsed": false
   },
   "outputs": [
    {
     "name": "stdout",
     "output_type": "stream",
     "text": [
      "             precision    recall  f1-score   support\n",
      "\n",
      "          0       0.59      0.71      0.64      4902\n",
      "          1       0.92      0.87      0.90     19111\n",
      "\n",
      "avg / total       0.85      0.84      0.84     24013\n",
      "\n"
     ]
    }
   ],
   "source": [
    "from sklearn.metrics import classification_report\n",
    "print(classification_report(y_test, clf_partial.predict(X_test)))"
   ]
  },
  {
   "cell_type": "code",
   "execution_count": null,
   "metadata": {
    "collapsed": true
   },
   "outputs": [],
   "source": []
  }
 ],
 "metadata": {
  "kernelspec": {
   "display_name": "Python [Root]",
   "language": "python",
   "name": "Python [Root]"
  },
  "language_info": {
   "codemirror_mode": {
    "name": "ipython",
    "version": 2
   },
   "file_extension": ".py",
   "mimetype": "text/x-python",
   "name": "python",
   "nbconvert_exporter": "python",
   "pygments_lexer": "ipython2",
   "version": "2.7.12"
  }
 },
 "nbformat": 4,
 "nbformat_minor": 2
}
