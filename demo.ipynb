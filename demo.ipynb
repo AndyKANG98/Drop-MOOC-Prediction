{
 "cells": [
  {
   "cell_type": "markdown",
   "metadata": {},
   "source": [
    "# Prediction Demo"
   ]
  },
  {
   "cell_type": "code",
   "execution_count": 1,
   "metadata": {},
   "outputs": [
    {
     "name": "stdout",
     "output_type": "stream",
     "text": [
      "data/date.csv loaded! Number of courses: 39\n",
      "data/object.csv loaded! Number of modules: 26750\n",
      "data/train/log_train.csv loaded! Size of log data: 4677908\n",
      "data/train/enrollment_train.csv loaded! Number of enrollments: 72395\n",
      "data/train/truth_train.csv loaded! Number of labels: 72395\n",
      "==========train data loading finished==========\n",
      "\n",
      "data/date.csv loaded! Number of courses: 39\n",
      "data/object.csv loaded! Number of modules: 26750\n",
      "data/test/log_test.csv loaded! Size of log data: 1548480\n",
      "data/test/enrollment_test.csv loaded! Number of enrollments: 24013\n",
      "data/test/truth_test.csv loaded! Number of labels: 24013\n",
      "==========test data loading finished==========\n",
      "\n"
     ]
    }
   ],
   "source": [
    "%reload_ext autoreload\n",
    "%autoreload 2\n",
    "import pandas as pd\n",
    "import time\n",
    "import numpy as np\n",
    "from preprocess import Preprocessor\n",
    "# Scikit Learn Libraries\n",
    "from sklearn.ensemble import RandomForestClassifier\n",
    "from sklearn.linear_model import LogisticRegression\n",
    "from sklearn.ensemble import VotingClassifier\n",
    "from sklearn import metrics\n",
    "# XGBoost Library\n",
    "from xgboost import XGBClassifier\n",
    "\n",
    "\n",
    "p_train = Preprocessor('train')\n",
    "p_test = Preprocessor('test')"
   ]
  },
  {
   "cell_type": "code",
   "execution_count": 2,
   "metadata": {},
   "outputs": [
    {
     "name": "stdout",
     "output_type": "stream",
     "text": [
      "Event_count extracted! Number of features: 7; time: 1.364033 seconds\n",
      "Weekly_session_count extracted! Number of features: 6; time: 54.613707 seconds\n",
      "Problem_video_ratio extracted! Number of features: 2; time: 6.584003 seconds\n",
      "==========All features extracted==========\n",
      "Shape of the features dataframe: (72395, 16)\n",
      "Finish training data preprocessing! Time: 62.925739 seconds\n",
      "The shape of X: (72395, 15); shape of y: (72395,)\n",
      "\n"
     ]
    }
   ],
   "source": [
    "X_train, y_train = p_train.get_values_all()"
   ]
  },
  {
   "cell_type": "code",
   "execution_count": 3,
   "metadata": {},
   "outputs": [
    {
     "name": "stdout",
     "output_type": "stream",
     "text": [
      "Event_count extracted! Number of features: 7; time: 0.384003 seconds\n",
      "Weekly_session_count extracted! Number of features: 6; time: 25.412285 seconds\n",
      "Problem_video_ratio extracted! Number of features: 2; time: 1.312000 seconds\n",
      "==========All features extracted==========\n",
      "Shape of the features dataframe: (24013, 16)\n",
      "Finish testing data preprocessing! Time: 27.264274 seconds\n",
      "The shape of X: (24013, 15); shape of y: (24013,)\n",
      "\n"
     ]
    }
   ],
   "source": [
    "X_test, y_test = p_test.get_values_all()"
   ]
  },
  {
   "cell_type": "markdown",
   "metadata": {},
   "source": [
    "## Random Forest"
   ]
  },
  {
   "cell_type": "code",
   "execution_count": 4,
   "metadata": {},
   "outputs": [
    {
     "name": "stdout",
     "output_type": "stream",
     "text": [
      "Classifier: RandomForestClassifier(bootstrap=True, class_weight=None, criterion='gini',\n",
      "            max_depth=12, max_features='auto', max_leaf_nodes=None,\n",
      "            min_impurity_decrease=0.0, min_impurity_split=None,\n",
      "            min_samples_leaf=1, min_samples_split=2,\n",
      "            min_weight_fraction_leaf=0.0, n_estimators=200, n_jobs=-1,\n",
      "            oob_score=False, random_state=0, verbose=0, warm_start=False)\n",
      "\n",
      "Classification report: \n",
      "              precision    recall  f1-score   support\n",
      "\n",
      "          0       0.77      0.56      0.65      4902\n",
      "          1       0.89      0.96      0.92     19111\n",
      "\n",
      "avg / total       0.87      0.88      0.87     24013\n",
      " \n",
      "\n",
      "Confusion matrix:\n",
      "[[ 2730  2172]\n",
      " [  800 18311]]\n",
      "\n",
      "Testing Score: 0.876234\n"
     ]
    }
   ],
   "source": [
    "clf = RandomForestClassifier(n_estimators=200, max_depth=12, random_state=0, min_samples_split=2, n_jobs=-1)\n",
    "clf = clf.fit(X_train, y_train)\n",
    "expected = y_test\n",
    "predicted = clf.predict(X_test)\n",
    "\n",
    "print ('Classifier: %s\\n' % (clf,))\n",
    "print ('Classification report: \\n %s \\n' % (metrics.classification_report(expected, predicted),))\n",
    "print ('Confusion matrix:\\n%s\\n' % metrics.confusion_matrix(expected, predicted))\n",
    "print ('Testing Score: %f' % clf.score(X_test,y_test))"
   ]
  },
  {
   "cell_type": "markdown",
   "metadata": {},
   "source": [
    "## Logistic Regression"
   ]
  },
  {
   "cell_type": "code",
   "execution_count": 5,
   "metadata": {},
   "outputs": [
    {
     "name": "stdout",
     "output_type": "stream",
     "text": [
      "Classifier: LogisticRegression(C=1.5, class_weight=None, dual=False, fit_intercept=True,\n",
      "          intercept_scaling=1, max_iter=100, multi_class='ovr', n_jobs=1,\n",
      "          penalty='l2', random_state=0, solver='liblinear', tol=0.001,\n",
      "          verbose=0, warm_start=False)\n",
      "\n",
      "Classification report: \n",
      "              precision    recall  f1-score   support\n",
      "\n",
      "          0       0.78      0.54      0.64      4902\n",
      "          1       0.89      0.96      0.92     19111\n",
      "\n",
      "avg / total       0.87      0.87      0.87     24013\n",
      " \n",
      "\n",
      "Confusion matrix:\n",
      "[[ 2624  2278]\n",
      " [  736 18375]]\n",
      "\n",
      "Testing Score: 0.874485\n"
     ]
    }
   ],
   "source": [
    "clf = LogisticRegression(tol=1e-3, C=1.5, random_state=0)\n",
    "clf = clf.fit(X_train, y_train)\n",
    "expected = y_test\n",
    "predicted = clf.predict(X_test)\n",
    "\n",
    "print ('Classifier: %s\\n' % (clf,))\n",
    "print ('Classification report: \\n %s \\n' % (metrics.classification_report(expected, predicted),))\n",
    "print ('Confusion matrix:\\n%s\\n' % metrics.confusion_matrix(expected, predicted))\n",
    "print ('Testing Score: %f' % clf.score(X_test,y_test))"
   ]
  },
  {
   "cell_type": "markdown",
   "metadata": {},
   "source": [
    "# XGBoost"
   ]
  },
  {
   "cell_type": "code",
   "execution_count": 6,
   "metadata": {},
   "outputs": [
    {
     "name": "stdout",
     "output_type": "stream",
     "text": [
      "Classifier: XGBClassifier(base_score=0.5, booster='gbtree', colsample_bylevel=1,\n",
      "       colsample_bytree=1, gamma=3, learning_rate=0.05, max_delta_step=1,\n",
      "       max_depth=6, min_child_weight=2, missing=None, n_estimators=200,\n",
      "       n_jobs=-1, nthread=None, objective='binary:logistic',\n",
      "       random_state=0, reg_alpha=0, reg_lambda=1, scale_pos_weight=1,\n",
      "       seed=None, silent=True, subsample=1)\n",
      "\n",
      "Classification report: \n",
      "              precision    recall  f1-score   support\n",
      "\n",
      "          0       0.77      0.57      0.66      4902\n",
      "          1       0.90      0.96      0.93     19111\n",
      "\n",
      "avg / total       0.87      0.88      0.87     24013\n",
      " \n",
      "\n",
      "Confusion matrix:\n",
      "[[ 2781  2121]\n",
      " [  808 18303]]\n",
      "\n",
      "Testing Score: 0.878024\n"
     ]
    },
    {
     "name": "stderr",
     "output_type": "stream",
     "text": [
      "C:\\Users\\Kang\\Anaconda3\\lib\\site-packages\\sklearn\\preprocessing\\label.py:151: DeprecationWarning: The truth value of an empty array is ambiguous. Returning False, but in future this will result in an error. Use `array.size > 0` to check that an array is not empty.\n",
      "  if diff:\n",
      "C:\\Users\\Kang\\Anaconda3\\lib\\site-packages\\sklearn\\preprocessing\\label.py:151: DeprecationWarning: The truth value of an empty array is ambiguous. Returning False, but in future this will result in an error. Use `array.size > 0` to check that an array is not empty.\n",
      "  if diff:\n"
     ]
    }
   ],
   "source": [
    "clf = XGBClassifier(n_estimators=200, max_depth=6, learning_rate=0.05, min_child_weight=2, \n",
    "                        n_jobs=-1, max_delta_step=1, objective='binary:logistic', gamma=3 ,subsample=1)\n",
    "clf = clf.fit(X_train, y_train)\n",
    "expected = y_test\n",
    "predicted = clf.predict(X_test)\n",
    "\n",
    "print ('Classifier: %s\\n' % (clf,))\n",
    "print ('Classification report: \\n %s \\n' % (metrics.classification_report(expected, predicted),))\n",
    "print ('Confusion matrix:\\n%s\\n' % metrics.confusion_matrix(expected, predicted))\n",
    "print ('Testing Score: %f' % clf.score(X_test,y_test))"
   ]
  },
  {
   "cell_type": "markdown",
   "metadata": {},
   "source": [
    "### Partial fit"
   ]
  },
  {
   "cell_type": "code",
   "execution_count": 7,
   "metadata": {},
   "outputs": [
    {
     "name": "stdout",
     "output_type": "stream",
     "text": [
      "Event_count extracted! Number of features: 7; time: 1.660004 seconds\n",
      "Weekly_session_count extracted! Number of features: 6; time: 51.527321 seconds\n",
      "Problem_video_ratio extracted! Number of features: 2; time: 3.099999 seconds\n",
      "==========All features extracted==========\n",
      "Shape of the features dataframe: (72395, 16)\n",
      "The ratio of 1 in labels:  65.62%\n",
      "The shape of X: (43712, 13); shape of y: (43712,)\n",
      "\n"
     ]
    }
   ],
   "source": [
    "X_train_balance, y_train_balance = p_train.get_values_partial(0.5)"
   ]
  },
  {
   "cell_type": "code",
   "execution_count": 8,
   "metadata": {},
   "outputs": [
    {
     "name": "stdout",
     "output_type": "stream",
     "text": [
      "Event_count extracted! Number of features: 7; time: 0.376340 seconds\n",
      "Weekly_session_count extracted! Number of features: 6; time: 16.183331 seconds\n",
      "Problem_video_ratio extracted! Number of features: 2; time: 1.031994 seconds\n",
      "==========All features extracted==========\n",
      "Shape of the features dataframe: (24013, 16)\n",
      "The ratio of 1 in labels:  79.59%\n",
      "The shape of X: (24013, 13); shape of y: (24013,)\n",
      "\n"
     ]
    }
   ],
   "source": [
    "X_test, y_test = p_test.get_values_partial(1)"
   ]
  },
  {
   "cell_type": "code",
   "execution_count": 10,
   "metadata": {},
   "outputs": [
    {
     "name": "stdout",
     "output_type": "stream",
     "text": [
      "Classifier: RandomForestClassifier(bootstrap=True, class_weight=None, criterion='gini',\n",
      "            max_depth=12, max_features='auto', max_leaf_nodes=None,\n",
      "            min_impurity_decrease=0.0, min_impurity_split=None,\n",
      "            min_samples_leaf=1, min_samples_split=2,\n",
      "            min_weight_fraction_leaf=0.0, n_estimators=200, n_jobs=-1,\n",
      "            oob_score=False, random_state=0, verbose=0, warm_start=False)\n",
      "\n",
      "Classification report: \n",
      "              precision    recall  f1-score   support\n",
      "\n",
      "          0       0.67      0.66      0.67      4902\n",
      "          1       0.91      0.92      0.91     19111\n",
      "\n",
      "avg / total       0.86      0.86      0.86     24013\n",
      " \n",
      "\n",
      "Confusion matrix:\n",
      "[[ 3252  1650]\n",
      " [ 1618 17493]]\n",
      "\n",
      "Testing Score: 0.863907\n"
     ]
    }
   ],
   "source": [
    "clf_partial = RandomForestClassifier(n_estimators=200, max_depth=12, random_state=0, min_samples_split=2, n_jobs=-1)\n",
    "clf_partial.fit(X_train_balance, y_train_balance)\n",
    "expected = y_test\n",
    "predicted = clf_partial.predict(X_test)\n",
    "\n",
    "print ('Classifier: %s\\n' % (clf_partial,))\n",
    "print ('Classification report: \\n %s \\n' % (metrics.classification_report(expected, predicted),))\n",
    "print ('Confusion matrix:\\n%s\\n' % metrics.confusion_matrix(expected, predicted))\n",
    "print ('Testing Score: %f' % clf_partial.score(X_test,y_test))"
   ]
  }
 ],
 "metadata": {
  "kernelspec": {
   "display_name": "Python 3",
   "language": "python",
   "name": "python3"
  },
  "language_info": {
   "codemirror_mode": {
    "name": "ipython",
    "version": 3
   },
   "file_extension": ".py",
   "mimetype": "text/x-python",
   "name": "python",
   "nbconvert_exporter": "python",
   "pygments_lexer": "ipython3",
   "version": "3.6.5"
  }
 },
 "nbformat": 4,
 "nbformat_minor": 2
}
