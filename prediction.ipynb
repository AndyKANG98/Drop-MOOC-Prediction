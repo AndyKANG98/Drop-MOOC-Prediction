{
 "cells": [
  {
   "cell_type": "markdown",
   "metadata": {},
   "source": [
    "main.py"
   ]
  },
  {
   "cell_type": "code",
   "execution_count": 4,
   "metadata": {},
   "outputs": [
    {
     "name": "stdout",
     "output_type": "stream",
     "text": [
      "('data/date.csv loaded! Number of courses:', 39)\n",
      "('data/object.csv loaded! Number of moduels:', 26750)\n",
      "('data/train/log_train.csv loaded! Size of log data:', 4677908)\n",
      "('data/train/enrollment_train.csv loaded! Number of enrollments:', 72395)\n",
      "('data/train/truth_train.csv loaded! Number of labels:', 72395)\n",
      "==========train data loading finished==========\n",
      "()\n",
      "('data/date.csv loaded! Number of courses:', 39)\n",
      "('data/object.csv loaded! Number of moduels:', 26750)\n",
      "('data/test/log_test.csv loaded! Size of log data:', 1548480)\n",
      "('data/test/enrollment_test.csv loaded! Number of enrollments:', 24013)\n",
      "('data/test/truth_test.csv loaded! Number of labels:', 24013)\n",
      "==========test data loading finished==========\n",
      "()\n",
      "Event_count extracted! Number of features: 7; time: 1.349625 seconds\n",
      "Weekly_session_count extracted! Number of features: 6; time: 66.430914 seconds\n",
      "Problem_video_ratio extracted! Number of features: 2; time: 3.251933 seconds\n",
      "==========All features extracted==========\n",
      "('Shape of the features dataframe: ', (72395, 16))\n",
      "Finish training data preprocessing! Time: 71.225868 seconds\n",
      "The shape of X: (72395, 15); shape of y: (72395,)\n",
      "()\n",
      "Event_count extracted! Number of features: 7; time: 0.442832 seconds\n",
      "Weekly_session_count extracted! Number of features: 6; time: 21.209639 seconds\n",
      "Problem_video_ratio extracted! Number of features: 2; time: 1.053086 seconds\n",
      "==========All features extracted==========\n",
      "('Shape of the features dataframe: ', (24013, 16))\n",
      "Finish testing data preprocessing! Time: 22.775250 seconds\n",
      "The shape of X: (24013, 15); shape of y: (24013,)\n",
      "()\n",
      "Classification report for classifier RandomForestClassifier(bootstrap=True, class_weight=None, criterion='gini',\n",
      "            max_depth=12, max_features='auto', max_leaf_nodes=None,\n",
      "            min_impurity_decrease=0.0, min_impurity_split=None,\n",
      "            min_samples_leaf=1, min_samples_split=2,\n",
      "            min_weight_fraction_leaf=0.0, n_estimators=200, n_jobs=-1,\n",
      "            oob_score=False, random_state=0, verbose=0, warm_start=False):\n",
      "              precision    recall  f1-score   support\n",
      "\n",
      "           0       0.77      0.55      0.65      4902\n",
      "           1       0.89      0.96      0.92     19111\n",
      "\n",
      "   micro avg       0.88      0.88      0.88     24013\n",
      "   macro avg       0.83      0.76      0.79     24013\n",
      "weighted avg       0.87      0.88      0.87     24013\n",
      "\n",
      "\n",
      "Confusion matrix:\n",
      "[[ 2718  2184]\n",
      " [  795 18316]]\n",
      "Testing Score:\n",
      "0.8759421979760963\n",
      "()\n"
     ]
    },
    {
     "name": "stderr",
     "output_type": "stream",
     "text": [
      "/anaconda2/lib/python2.7/site-packages/sklearn/linear_model/logistic.py:432: FutureWarning: Default solver will be changed to 'lbfgs' in 0.22. Specify a solver to silence this warning.\n",
      "  FutureWarning)\n"
     ]
    },
    {
     "name": "stdout",
     "output_type": "stream",
     "text": [
      "Classification report for classifier LogisticRegression(C=1.5, class_weight=None, dual=False, fit_intercept=True,\n",
      "          intercept_scaling=1, max_iter=100, multi_class='warn',\n",
      "          n_jobs=None, penalty='l2', random_state=0, solver='warn',\n",
      "          tol=0.001, verbose=0, warm_start=False):\n",
      "              precision    recall  f1-score   support\n",
      "\n",
      "           0       0.78      0.54      0.64      4902\n",
      "           1       0.89      0.96      0.92     19111\n",
      "\n",
      "   micro avg       0.87      0.87      0.87     24013\n",
      "   macro avg       0.84      0.75      0.78     24013\n",
      "weighted avg       0.87      0.87      0.87     24013\n",
      "\n",
      "\n",
      "Confusion matrix:\n",
      "[[ 2624  2278]\n",
      " [  736 18375]]\n",
      "Testing Score:\n",
      "0.8744846541456711\n",
      "()\n",
      "Classification report for classifier XGBClassifier(base_score=0.5, booster='gbtree', colsample_bylevel=1,\n",
      "       colsample_bytree=1, gamma=3, learning_rate=0.05, max_delta_step=1,\n",
      "       max_depth=6, min_child_weight=2, missing=None, n_estimators=200,\n",
      "       n_jobs=-1, nthread=None, objective='binary:logistic',\n",
      "       random_state=0, reg_alpha=0, reg_lambda=1, scale_pos_weight=1,\n",
      "       seed=None, silent=True, subsample=1):\n",
      "              precision    recall  f1-score   support\n",
      "\n",
      "           0       0.77      0.56      0.65      4902\n",
      "           1       0.90      0.96      0.93     19111\n",
      "\n",
      "   micro avg       0.88      0.88      0.88     24013\n",
      "   macro avg       0.83      0.76      0.79     24013\n",
      "weighted avg       0.87      0.88      0.87     24013\n",
      "\n",
      "\n",
      "Confusion matrix:\n",
      "[[ 2765  2137]\n",
      " [  810 18301]]\n",
      "Testing Score:\n",
      "0.8772748094781994\n",
      "()\n",
      "Classification report for classifier VotingClassifier(estimators=[('rf', RandomForestClassifier(bootstrap=True, class_weight=None, criterion='gini',\n",
      "            max_depth=12, max_features='auto', max_leaf_nodes=None,\n",
      "            min_impurity_decrease=0.0, min_impurity_split=None,\n",
      "            min_samples_leaf=1, min_samples_split=3,\n",
      "            min_weig...tate=0, reg_alpha=0, reg_lambda=1, scale_pos_weight=1,\n",
      "       seed=None, silent=True, subsample=1))],\n",
      "         flatten_transform=None, n_jobs=None, voting='hard', weights=None):\n",
      "              precision    recall  f1-score   support\n",
      "\n",
      "           0       0.78      0.56      0.65      4902\n",
      "           1       0.89      0.96      0.93     19111\n",
      "\n",
      "   micro avg       0.88      0.88      0.88     24013\n",
      "   macro avg       0.84      0.76      0.79     24013\n",
      "weighted avg       0.87      0.88      0.87     24013\n",
      "\n",
      "\n",
      "Confusion matrix:\n",
      "[[ 2728  2174]\n",
      " [  778 18333]]\n",
      "Testing Score:\n",
      "0.8770665889309958\n"
     ]
    }
   ],
   "source": [
    "import pandas as pd\n",
    "import time\n",
    "import numpy as np\n",
    "from preprocess import Preprocessor\n",
    "# Scikit Learn Libraries\n",
    "from sklearn.ensemble import RandomForestClassifier\n",
    "from sklearn.linear_model import LogisticRegression\n",
    "from sklearn.ensemble import VotingClassifier\n",
    "from sklearn import metrics\n",
    "# XGBoost Library\n",
    "from xgboost import XGBClassifier\n",
    "\n",
    "def random_forest(X_train, y_train, X_test, y_test):\n",
    "\n",
    "    clf = RandomForestClassifier(n_estimators=200, max_depth=12, random_state=0, min_samples_split=2, n_jobs=-1)\n",
    "    clf = clf.fit(X_train, y_train)\n",
    "    expected = y_test\n",
    "    predicted = clf.predict(X_test)\n",
    "\n",
    "    print(\"Classification report for classifier %s:\\n%s\\n\"\n",
    "          % (clf, metrics.classification_report(expected, predicted)))\n",
    "    print(\"Confusion matrix:\\n%s\" % metrics.confusion_matrix(expected, predicted))\n",
    "    print (\"Testing Score:\")\n",
    "    print (clf.score(X_test,y_test))\n",
    "    print ('')\n",
    "    \n",
    "def logistic_regression(X_train, y_train, X_test, y_test):\n",
    "    \n",
    "    clf = LogisticRegression(tol=1e-3, C=1.5, random_state=0)\n",
    "    clf = clf.fit(X_train, y_train)\n",
    "    expected = y_test\n",
    "    predicted = clf.predict(X_test)\n",
    "\n",
    "    print(\"Classification report for classifier %s:\\n%s\\n\"\n",
    "          % (clf, metrics.classification_report(expected, predicted)))\n",
    "    print(\"Confusion matrix:\\n%s\" % metrics.confusion_matrix(expected, predicted))\n",
    "    print (\"Testing Score:\")\n",
    "    print (clf.score(X_test,y_test))\n",
    "    print ('')\n",
    "    \n",
    "def XGboost(X_train, y_train, X_test, y_test):\n",
    "\n",
    "    clf = XGBClassifier(n_estimators=200, max_depth=6, learning_rate=0.05, min_child_weight=2, \n",
    "                        n_jobs=-1, max_delta_step=1, objective='binary:logistic', gamma=3 ,subsample=1)\n",
    "    clf = clf.fit(X_train, y_train)\n",
    "    expected = y_test\n",
    "    predicted = clf.predict(X_test)\n",
    "\n",
    "    print(\"Classification report for classifier %s:\\n%s\\n\"\n",
    "          % (clf, metrics.classification_report(expected, predicted)))\n",
    "    print(\"Confusion matrix:\\n%s\" % metrics.confusion_matrix(expected, predicted))\n",
    "    print (\"Testing Score:\")\n",
    "    print (clf.score(X_test,y_test))\n",
    "    print ('')\n",
    "    \n",
    "def voting(X_train, y_train, X_test, y_test):\n",
    "    \n",
    "    clf1 = RandomForestClassifier(n_estimators=200, max_depth=12, random_state=0, min_samples_split=3, n_jobs=-1)\n",
    "    clf2 = LogisticRegression(tol=1e-3, C=1.5, random_state=0)\n",
    "    clf3 = XGBClassifier(n_estimators=200, max_depth=6, learning_rate=0.05, min_child_weight=2, \n",
    "                        n_jobs=-1, max_delta_step=1, objective='binary:logistic', gamma=3 ,subsample=1)\n",
    "    \n",
    "    clf = VotingClassifier(estimators=[('rf', clf1), ('lr', clf2), ('xgb', clf3)], voting='hard')\n",
    "    clf = clf.fit(X_train, y_train)\n",
    "    expected = y_test\n",
    "    predicted = clf.predict(X_test)\n",
    "\n",
    "    print(\"Classification report for classifier %s:\\n%s\\n\"\n",
    "          % (clf, metrics.classification_report(expected, predicted)))\n",
    "    print(\"Confusion matrix:\\n%s\" % metrics.confusion_matrix(expected, predicted))\n",
    "    print (\"Testing Score:\")\n",
    "    print (clf.score(X_test,y_test))\n",
    "    \n",
    "def main():\n",
    "    \n",
    "    # Build preprocessor\n",
    "    p_train = Preprocessor('train')\n",
    "    p_test = Preprocessor('test')\n",
    "    \n",
    "    # Get value\n",
    "    X_train, y_train = p_train.get_values_all()\n",
    "    X_test, y_test = p_test.get_values_all()\n",
    "    \n",
    "    print ('==========Classification==========')\n",
    "    # Random forest\n",
    "    random_forest(X_train, y_train, X_test, y_test)\n",
    "    \n",
    "    # Logistic regression\n",
    "    logistic_regression(X_train, y_train, X_test, y_test)\n",
    "    \n",
    "    # XGboost\n",
    "    XGboost(X_train, y_train, X_test, y_test)\n",
    "    \n",
    "    print ('==========Voting==========')\n",
    "    # Voting\n",
    "    voting(X_train, y_train, X_test, y_test)\n",
    "\n",
    "if __name__== \"__main__\":\n",
    "    main()"
   ]
  },
  {
   "cell_type": "markdown",
   "metadata": {},
   "source": [
    "import library"
   ]
  },
  {
   "cell_type": "code",
   "execution_count": 1,
   "metadata": {},
   "outputs": [],
   "source": [
    "import pandas as pd\n",
    "import time\n",
    "import numpy as np\n",
    "from preprocess import Preprocessor\n",
    "# Scikit Learn Libraries\n",
    "from sklearn.ensemble import RandomForestClassifier\n",
    "from sklearn.neural_network import MLPClassifier\n",
    "from sklearn.ensemble import AdaBoostClassifier\n",
    "from sklearn.linear_model import LogisticRegression\n",
    "from sklearn import metrics\n",
    "from sklearn.ensemble import VotingClassifier\n",
    "# XGBoost Library\n",
    "from xgboost import XGBClassifier"
   ]
  },
  {
   "cell_type": "markdown",
   "metadata": {},
   "source": [
    "import data"
   ]
  },
  {
   "cell_type": "code",
   "execution_count": 2,
   "metadata": {
    "collapsed": true
   },
   "outputs": [
    {
     "name": "stdout",
     "output_type": "stream",
     "text": [
      "('data/date.csv loaded! Number of courses:', 39)\n",
      "('data/object.csv loaded! Number of moduels:', 26750)\n",
      "('data/train/log_train.csv loaded! Size of log data:', 4677908)\n",
      "('data/train/enrollment_train.csv loaded! Number of enrollments:', 72395)\n",
      "('data/train/truth_train.csv loaded! Number of labels:', 72395)\n",
      "==========train data loading finished==========\n",
      "()\n",
      "('data/date.csv loaded! Number of courses:', 39)\n",
      "('data/object.csv loaded! Number of moduels:', 26750)\n",
      "('data/test/log_test.csv loaded! Size of log data:', 1548480)\n",
      "('data/test/enrollment_test.csv loaded! Number of enrollments:', 24013)\n",
      "('data/test/truth_test.csv loaded! Number of labels:', 24013)\n",
      "==========test data loading finished==========\n",
      "()\n",
      "Event_count extracted! Number of features: 7; time: 1.221201 seconds\n",
      "Weekly_session_count extracted! Number of features: 6; time: 62.330931 seconds\n",
      "Problem_video_ratio extracted! Number of features: 2; time: 3.067496 seconds\n",
      "==========All features extracted==========\n",
      "('Shape of the features dataframe: ', (72395, 16))\n",
      "Finish training data preprocessing! Time: 66.794579 seconds\n",
      "The shape of X: (72395, 15); shape of y: (72395,)\n",
      "()\n",
      "Event_count extracted! Number of features: 7; time: 0.374198 seconds\n",
      "Weekly_session_count extracted! Number of features: 6; time: 21.076486 seconds\n",
      "Problem_video_ratio extracted! Number of features: 2; time: 1.048339 seconds\n",
      "==========All features extracted==========\n",
      "('Shape of the features dataframe: ', (24013, 16))\n",
      "Finish testing data preprocessing! Time: 22.566589 seconds\n",
      "The shape of X: (24013, 15); shape of y: (24013,)\n",
      "()\n"
     ]
    }
   ],
   "source": [
    "# Build preprocessor\n",
    "p_train = Preprocessor('train')\n",
    "p_test = Preprocessor('test')\n",
    "\n",
    "# Get value\n",
    "X_train, y_train = p_train.get_values_all()\n",
    "X_test, y_test = p_test.get_values_all()"
   ]
  },
  {
   "cell_type": "markdown",
   "metadata": {},
   "source": [
    "random forest"
   ]
  },
  {
   "cell_type": "code",
   "execution_count": 8,
   "metadata": {},
   "outputs": [
    {
     "name": "stdout",
     "output_type": "stream",
     "text": [
      "Classification report for classifier RandomForestClassifier(bootstrap=True, class_weight=None, criterion='gini',\n",
      "            max_depth=None, max_features='auto', max_leaf_nodes=None,\n",
      "            min_impurity_decrease=0.0, min_impurity_split=None,\n",
      "            min_samples_leaf=1, min_samples_split=2,\n",
      "            min_weight_fraction_leaf=0.0, n_estimators=10, n_jobs=None,\n",
      "            oob_score=False, random_state=0, verbose=0, warm_start=False):\n",
      "              precision    recall  f1-score   support\n",
      "\n",
      "           0       0.67      0.60      0.63      4902\n",
      "           1       0.90      0.93      0.91     19111\n",
      "\n",
      "   micro avg       0.86      0.86      0.86     24013\n",
      "   macro avg       0.79      0.76      0.77     24013\n",
      "weighted avg       0.85      0.86      0.86     24013\n",
      "\n",
      "\n",
      "Confusion matrix:\n",
      "[[ 2926  1976]\n",
      " [ 1411 17700]]\n",
      "Score: \n",
      "0.8589514013242827\n",
      "[0.85600829 0.86007321 0.86214518 0.85731059 0.86089239]\n",
      "1.02198886871\n"
     ]
    }
   ],
   "source": [
    "t0 = time.time()\n",
    "clf = RandomForestClassifier(n_estimators=10,random_state=0)\n",
    "clf = clf.fit(X_train, y_train)\n",
    "expected = y_test\n",
    "predicted = clf.predict(X_test)\n",
    "\n",
    "print(\"Classification report for classifier %s:\\n%s\\n\"\n",
    "      % (clf, metrics.classification_report(expected, predicted)))\n",
    "print(\"Confusion matrix:\\n%s\" % metrics.confusion_matrix(expected, predicted))\n",
    "print 'Score: '\n",
    "print clf.score(X_test,y_test)\n",
    "t1 = time.time()\n",
    "print cross_val_score(clf, X_train, y_train, cv=5)\n",
    "print t1 - t0"
   ]
  },
  {
   "cell_type": "markdown",
   "metadata": {},
   "source": [
    "SVM"
   ]
  },
  {
   "cell_type": "code",
   "execution_count": 13,
   "metadata": {},
   "outputs": [
    {
     "name": "stdout",
     "output_type": "stream",
     "text": [
      "Classification report for classifier SVC(C=1.0, cache_size=200, class_weight=None, coef0=0.0,\n",
      "  decision_function_shape='ovr', degree=3, gamma='scale', kernel='rbf',\n",
      "  max_iter=-1, probability=False, random_state=None, shrinking=True,\n",
      "  tol=0.001, verbose=False):\n",
      "              precision    recall  f1-score   support\n",
      "\n",
      "           0       0.75      0.53      0.62      4902\n",
      "           1       0.89      0.95      0.92     19111\n",
      "\n",
      "   micro avg       0.87      0.87      0.87     24013\n",
      "   macro avg       0.82      0.74      0.77     24013\n",
      "weighted avg       0.86      0.87      0.86     24013\n",
      "\n",
      "\n",
      "Confusion matrix:\n",
      "[[ 2619  2283]\n",
      " [  876 18235]]\n",
      "Score: \n",
      "0.8684462582767668\n",
      "Cross validation score: \n",
      "552.128526926\n"
     ]
    }
   ],
   "source": [
    "t0 = time.time()\n",
    "clf = svm.SVC(gamma='scale') \n",
    "clf = clf.fit(X_train, y_train)\n",
    "expected = y_test\n",
    "predicted = clf.predict(X_test)\n",
    "\n",
    "print(\"Classification report for classifier %s:\\n%s\\n\"\n",
    "      % (clf, metrics.classification_report(expected, predicted)))\n",
    "print(\"Confusion matrix:\\n%s\" % metrics.confusion_matrix(expected, predicted))\n",
    "print 'Score: '\n",
    "print clf.score(X_test,y_test)\n",
    "print 'Cross validation score: '\n",
    "t1 = time.time()\n",
    "print t1 - t0\n",
    "#print cross_val_score(clf, X_train, y_train, cv=3)"
   ]
  },
  {
   "cell_type": "markdown",
   "metadata": {},
   "source": [
    "Neural network"
   ]
  },
  {
   "cell_type": "code",
   "execution_count": 10,
   "metadata": {},
   "outputs": [
    {
     "name": "stdout",
     "output_type": "stream",
     "text": [
      "Classification report for classifier MLPClassifier(activation='relu', alpha=0.0001, batch_size='auto', beta_1=0.9,\n",
      "       beta_2=0.999, early_stopping=False, epsilon=1e-08,\n",
      "       hidden_layer_sizes=(50, 50), learning_rate='constant',\n",
      "       learning_rate_init=0.001, max_iter=200, momentum=0.9,\n",
      "       n_iter_no_change=10, nesterovs_momentum=True, power_t=0.5,\n",
      "       random_state=None, shuffle=True, solver='adam', tol=0.0001,\n",
      "       validation_fraction=0.1, verbose=False, warm_start=False):\n",
      "              precision    recall  f1-score   support\n",
      "\n",
      "           0       0.72      0.57      0.64      4902\n",
      "           1       0.90      0.94      0.92     19111\n",
      "\n",
      "   micro avg       0.87      0.87      0.87     24013\n",
      "   macro avg       0.81      0.76      0.78     24013\n",
      "weighted avg       0.86      0.87      0.86     24013\n",
      "\n",
      "\n",
      "Confusion matrix:\n",
      "[[ 2812  2090]\n",
      " [ 1079 18032]]\n",
      "Score: \n",
      "0.8680298171823596\n",
      "Cross validation score: \n",
      "76.4239008427\n"
     ]
    }
   ],
   "source": [
    "t0 = time.time()\n",
    "clf = MLPClassifier(hidden_layer_sizes=(50,50))\n",
    "clf = clf.fit(X_train, y_train)\n",
    "expected = y_test\n",
    "predicted = clf.predict(X_test)\n",
    "\n",
    "print(\"Classification report for classifier %s:\\n%s\\n\"\n",
    "      % (clf, metrics.classification_report(expected, predicted)))\n",
    "print(\"Confusion matrix:\\n%s\" % metrics.confusion_matrix(expected, predicted))\n",
    "print 'Score: '\n",
    "print clf.score(X_test,y_test)\n",
    "print 'Cross validation score: '\n",
    "t1 = time.time()\n",
    "print t1 - t0\n",
    "#print cross_val_score(clf, X_train, y_train, cv=3)"
   ]
  },
  {
   "cell_type": "markdown",
   "metadata": {},
   "source": [
    "Logistic regression"
   ]
  },
  {
   "cell_type": "code",
   "execution_count": 11,
   "metadata": {},
   "outputs": [
    {
     "name": "stderr",
     "output_type": "stream",
     "text": [
      "/anaconda2/lib/python2.7/site-packages/sklearn/linear_model/logistic.py:432: FutureWarning: Default solver will be changed to 'lbfgs' in 0.22. Specify a solver to silence this warning.\n",
      "  FutureWarning)\n"
     ]
    },
    {
     "name": "stdout",
     "output_type": "stream",
     "text": [
      "Classification report for classifier LogisticRegression(C=1.0, class_weight=None, dual=False, fit_intercept=True,\n",
      "          intercept_scaling=1, max_iter=100, multi_class='warn',\n",
      "          n_jobs=None, penalty='l2', random_state=None, solver='warn',\n",
      "          tol=0.0001, verbose=0, warm_start=False):\n",
      "              precision    recall  f1-score   support\n",
      "\n",
      "           0       0.80      0.50      0.62      4902\n",
      "           1       0.88      0.97      0.92     19111\n",
      "\n",
      "   micro avg       0.87      0.87      0.87     24013\n",
      "   macro avg       0.84      0.74      0.77     24013\n",
      "weighted avg       0.87      0.87      0.86     24013\n",
      "\n",
      "\n",
      "Confusion matrix:\n",
      "[[ 2465  2437]\n",
      " [  604 18507]]\n",
      "Score: \n",
      "0.8733602631907716\n",
      "Cross validation score: \n",
      "0.772509098053\n"
     ]
    }
   ],
   "source": [
    "# Logistic regression\n",
    "t0 = time.time()\n",
    "clf = LogisticRegression()\n",
    "clf = clf.fit(X_train, y_train)\n",
    "expected = y_test\n",
    "predicted = clf.predict(X_test)\n",
    "\n",
    "print(\"Classification report for classifier %s:\\n%s\\n\"\n",
    "      % (clf, metrics.classification_report(expected, predicted)))\n",
    "print(\"Confusion matrix:\\n%s\" % metrics.confusion_matrix(expected, predicted))\n",
    "print 'Score: '\n",
    "print clf.score(X_test,y_test)\n",
    "print 'Cross validation score: '\n",
    "t1 = time.time()\n",
    "print t1 - t0\n",
    "#print cross_val_score(clf, X_train, y_train, cv=3)"
   ]
  },
  {
   "cell_type": "markdown",
   "metadata": {},
   "source": [
    "Gradient boosting"
   ]
  },
  {
   "cell_type": "code",
   "execution_count": 12,
   "metadata": {},
   "outputs": [
    {
     "name": "stdout",
     "output_type": "stream",
     "text": [
      "Classification report for classifier GradientBoostingClassifier(criterion='friedman_mse', init=None,\n",
      "              learning_rate=0.1, loss='deviance', max_depth=3,\n",
      "              max_features=None, max_leaf_nodes=None,\n",
      "              min_impurity_decrease=0.0, min_impurity_split=None,\n",
      "              min_samples_leaf=1, min_samples_split=2,\n",
      "              min_weight_fraction_leaf=0.0, n_estimators=100,\n",
      "              n_iter_no_change=None, presort='auto', random_state=None,\n",
      "              subsample=1.0, tol=0.0001, validation_fraction=0.1,\n",
      "              verbose=0, warm_start=False):\n",
      "              precision    recall  f1-score   support\n",
      "\n",
      "           0       0.76      0.57      0.65      4902\n",
      "           1       0.90      0.95      0.92     19111\n",
      "\n",
      "   micro avg       0.88      0.88      0.88     24013\n",
      "   macro avg       0.83      0.76      0.79     24013\n",
      "weighted avg       0.87      0.88      0.87     24013\n",
      "\n",
      "\n",
      "Confusion matrix:\n",
      "[[ 2811  2091]\n",
      " [  874 18237]]\n",
      "Score: \n",
      "0.8765252155082663\n",
      "Cross validation score: \n",
      "4.4047999382\n"
     ]
    }
   ],
   "source": [
    "# Gradient Boosting\n",
    "t0 = time.time()\n",
    "clf = GradientBoostingClassifier()\n",
    "clf = clf.fit(X_train, y_train)\n",
    "expected = y_test\n",
    "predicted = clf.predict(X_test)\n",
    "\n",
    "print(\"Classification report for classifier %s:\\n%s\\n\"\n",
    "      % (clf, metrics.classification_report(expected, predicted)))\n",
    "print(\"Confusion matrix:\\n%s\" % metrics.confusion_matrix(expected, predicted))\n",
    "print 'Score: '\n",
    "print clf.score(X_test,y_test)\n",
    "print 'Cross validation score: '\n",
    "t1 = time.time()\n",
    "print t1 - t0\n",
    "print cross_val_score(clf, X_train, y_train, cv=5)"
   ]
  },
  {
   "cell_type": "markdown",
   "metadata": {},
   "source": [
    "XGboosting"
   ]
  },
  {
   "cell_type": "code",
   "execution_count": 16,
   "metadata": {},
   "outputs": [
    {
     "name": "stdout",
     "output_type": "stream",
     "text": [
      "Classification report for classifier AdaBoostClassifier(algorithm='SAMME.R', base_estimator=None,\n",
      "          learning_rate=1.0, n_estimators=50, random_state=None):\n",
      "              precision    recall  f1-score   support\n",
      "\n",
      "           0       0.77      0.55      0.64      4902\n",
      "           1       0.89      0.96      0.92     19111\n",
      "\n",
      "   micro avg       0.88      0.88      0.88     24013\n",
      "   macro avg       0.83      0.75      0.78     24013\n",
      "weighted avg       0.87      0.88      0.87     24013\n",
      "\n",
      "\n",
      "Confusion matrix:\n",
      "[[ 2686  2216]\n",
      " [  784 18327]]\n",
      "Score: \n",
      "0.8750676716778412\n",
      "Cross validation score: \n",
      "[0.87216851 0.87457697 0.8751295  0.87540576 0.8743611 ]\n"
     ]
    }
   ],
   "source": [
    "# Ada Boosting\n",
    "\n",
    "clf = AdaBoostClassifier()\n",
    "clf = clf.fit(X_train, y_train)\n",
    "expected = y_test\n",
    "predicted = clf.predict(X_test)\n",
    "\n",
    "print(\"Classification report for classifier %s:\\n%s\\n\"\n",
    "      % (clf, metrics.classification_report(expected, predicted)))\n",
    "print(\"Confusion matrix:\\n%s\" % metrics.confusion_matrix(expected, predicted))\n",
    "print 'Score: '\n",
    "print clf.score(X_test,y_test)\n",
    "print 'Cross validation score: '\n",
    "print cross_val_score(clf, X_train, y_train, cv=5)"
   ]
  },
  {
   "cell_type": "code",
   "execution_count": null,
   "metadata": {},
   "outputs": [],
   "source": []
  }
 ],
 "metadata": {
  "kernelspec": {
   "display_name": "Python 2",
   "language": "python",
   "name": "python2"
  },
  "language_info": {
   "codemirror_mode": {
    "name": "ipython",
    "version": 2
   },
   "file_extension": ".py",
   "mimetype": "text/x-python",
   "name": "python",
   "nbconvert_exporter": "python",
   "pygments_lexer": "ipython2",
   "version": "2.7.15"
  }
 },
 "nbformat": 4,
 "nbformat_minor": 2
}
