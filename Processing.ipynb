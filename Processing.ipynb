{
 "cells": [
  {
   "cell_type": "code",
   "execution_count": 1,
   "metadata": {
    "collapsed": false
   },
   "outputs": [
    {
     "name": "stdout",
     "output_type": "stream",
     "text": [
      "load course date info over!\n",
      "('number of courses:', 39)\n",
      "load course object info over!\n",
      "('number of courses:', 39)\n",
      "('number of moduels:', 26750)\n",
      "load course object info over!\n",
      "('size of log data:', 4677908)\n",
      "('number of enrollment_ids:', 72395)\n",
      "load enrollment info over!\n",
      "('number of courses:', 39)\n",
      "('number of enrollments:', 72395)\n",
      "('number of uers: ', 53870)\n",
      "load truth info over!\n",
      "('number of labels:', 72395)\n",
      "load course date info over!\n",
      "('number of courses:', 39)\n",
      "load course object info over!\n",
      "('number of courses:', 39)\n",
      "('number of moduels:', 26750)\n",
      "load course object info over!\n",
      "('size of log data:', 1548480)\n",
      "('number of enrollment_ids:', 24013)\n",
      "load enrollment info over!\n",
      "('number of courses:', 39)\n",
      "('number of enrollments:', 24013)\n",
      "('number of uers: ', 21266)\n",
      "load truth info over!\n",
      "('number of labels:', 24013)\n"
     ]
    }
   ],
   "source": [
    "%load_ext autoreload\n",
    "%autoreload 2\n",
    "from preprocess import Preprocessor\n",
    "from sklearn.ensemble import RandomForestClassifier\n",
    "from sklearn.model_selection import cross_val_score\n",
    "\n",
    "p_train = Preprocessor('train')\n",
    "p_test = Preprocessor('test')"
   ]
  },
  {
   "cell_type": "markdown",
   "metadata": {},
   "source": [
    "## Load features"
   ]
  },
  {
   "cell_type": "code",
   "execution_count": 7,
   "metadata": {
    "collapsed": false
   },
   "outputs": [
    {
     "name": "stdout",
     "output_type": "stream",
     "text": [
      "event_count features extracted! 1.456823 seconds taken\n",
      "('Shape of the event_count dataframe: ', (72395, 8))\n",
      "weekly_session_count features extracted! 76.777606 seconds taken\n",
      "('Shape of the weekly_session_count dataframe: ', (72395, 6))\n",
      "problem_video_ratio features extracted! 3.273508 seconds taken\n",
      "('Shape of the problem_video dataframe: ', (72395, 3))\n",
      "All features extracted! 81.665883 seconds taken\n",
      "('Shape of the whole features dataframe: ', (72395, 16))\n"
     ]
    }
   ],
   "source": [
    "df = p_train.get_features_all()"
   ]
  },
  {
   "cell_type": "code",
   "execution_count": 8,
   "metadata": {
    "collapsed": false
   },
   "outputs": [
    {
     "data": {
      "text/html": [
       "<div>\n",
       "<style scoped>\n",
       "    .dataframe tbody tr th:only-of-type {\n",
       "        vertical-align: middle;\n",
       "    }\n",
       "\n",
       "    .dataframe tbody tr th {\n",
       "        vertical-align: top;\n",
       "    }\n",
       "\n",
       "    .dataframe thead th {\n",
       "        text-align: right;\n",
       "    }\n",
       "</style>\n",
       "<table border=\"1\" class=\"dataframe\">\n",
       "  <thead>\n",
       "    <tr style=\"text-align: right;\">\n",
       "      <th></th>\n",
       "      <th>enrollment_id</th>\n",
       "      <th>access_count</th>\n",
       "      <th>discussion_count</th>\n",
       "      <th>navigate_count</th>\n",
       "      <th>page_close_count</th>\n",
       "      <th>problem_count</th>\n",
       "      <th>video_count</th>\n",
       "      <th>wiki_count</th>\n",
       "      <th>week_one_session</th>\n",
       "      <th>week_two_session</th>\n",
       "      <th>week_three_session</th>\n",
       "      <th>week_four_session</th>\n",
       "      <th>week_five_session</th>\n",
       "      <th>week_six_session</th>\n",
       "      <th>problem_ratio</th>\n",
       "      <th>video_ratio</th>\n",
       "      <th>label</th>\n",
       "    </tr>\n",
       "  </thead>\n",
       "  <tbody>\n",
       "    <tr>\n",
       "      <th>0</th>\n",
       "      <td>1</td>\n",
       "      <td>107</td>\n",
       "      <td>0</td>\n",
       "      <td>25</td>\n",
       "      <td>66</td>\n",
       "      <td>80</td>\n",
       "      <td>29</td>\n",
       "      <td>0</td>\n",
       "      <td>1</td>\n",
       "      <td>5</td>\n",
       "      <td>8</td>\n",
       "      <td>3</td>\n",
       "      <td>3</td>\n",
       "      <td>0</td>\n",
       "      <td>0.476190</td>\n",
       "      <td>0.446429</td>\n",
       "      <td>0</td>\n",
       "    </tr>\n",
       "    <tr>\n",
       "      <th>1</th>\n",
       "      <td>4</td>\n",
       "      <td>61</td>\n",
       "      <td>0</td>\n",
       "      <td>15</td>\n",
       "      <td>8</td>\n",
       "      <td>6</td>\n",
       "      <td>4</td>\n",
       "      <td>0</td>\n",
       "      <td>5</td>\n",
       "      <td>7</td>\n",
       "      <td>6</td>\n",
       "      <td>0</td>\n",
       "      <td>0</td>\n",
       "      <td>0</td>\n",
       "      <td>0.047619</td>\n",
       "      <td>0.053571</td>\n",
       "      <td>0</td>\n",
       "    </tr>\n",
       "    <tr>\n",
       "      <th>2</th>\n",
       "      <td>5</td>\n",
       "      <td>226</td>\n",
       "      <td>34</td>\n",
       "      <td>30</td>\n",
       "      <td>87</td>\n",
       "      <td>152</td>\n",
       "      <td>86</td>\n",
       "      <td>0</td>\n",
       "      <td>6</td>\n",
       "      <td>25</td>\n",
       "      <td>2</td>\n",
       "      <td>19</td>\n",
       "      <td>5</td>\n",
       "      <td>0</td>\n",
       "      <td>0.450549</td>\n",
       "      <td>0.327434</td>\n",
       "      <td>0</td>\n",
       "    </tr>\n",
       "    <tr>\n",
       "      <th>3</th>\n",
       "      <td>7</td>\n",
       "      <td>194</td>\n",
       "      <td>33</td>\n",
       "      <td>19</td>\n",
       "      <td>59</td>\n",
       "      <td>84</td>\n",
       "      <td>69</td>\n",
       "      <td>0</td>\n",
       "      <td>5</td>\n",
       "      <td>4</td>\n",
       "      <td>7</td>\n",
       "      <td>4</td>\n",
       "      <td>0</td>\n",
       "      <td>0</td>\n",
       "      <td>0.296703</td>\n",
       "      <td>0.230088</td>\n",
       "      <td>1</td>\n",
       "    </tr>\n",
       "    <tr>\n",
       "      <th>4</th>\n",
       "      <td>13</td>\n",
       "      <td>198</td>\n",
       "      <td>4</td>\n",
       "      <td>15</td>\n",
       "      <td>25</td>\n",
       "      <td>116</td>\n",
       "      <td>69</td>\n",
       "      <td>0</td>\n",
       "      <td>0</td>\n",
       "      <td>4</td>\n",
       "      <td>0</td>\n",
       "      <td>13</td>\n",
       "      <td>12</td>\n",
       "      <td>0</td>\n",
       "      <td>0.126214</td>\n",
       "      <td>0.219355</td>\n",
       "      <td>0</td>\n",
       "    </tr>\n",
       "  </tbody>\n",
       "</table>\n",
       "</div>"
      ],
      "text/plain": [
       "   enrollment_id  access_count  discussion_count  navigate_count  \\\n",
       "0              1           107                 0              25   \n",
       "1              4            61                 0              15   \n",
       "2              5           226                34              30   \n",
       "3              7           194                33              19   \n",
       "4             13           198                 4              15   \n",
       "\n",
       "   page_close_count  problem_count  video_count  wiki_count  week_one_session  \\\n",
       "0                66             80           29           0                 1   \n",
       "1                 8              6            4           0                 5   \n",
       "2                87            152           86           0                 6   \n",
       "3                59             84           69           0                 5   \n",
       "4                25            116           69           0                 0   \n",
       "\n",
       "   week_two_session  week_three_session  week_four_session  week_five_session  \\\n",
       "0                 5                   8                  3                  3   \n",
       "1                 7                   6                  0                  0   \n",
       "2                25                   2                 19                  5   \n",
       "3                 4                   7                  4                  0   \n",
       "4                 4                   0                 13                 12   \n",
       "\n",
       "   week_six_session  problem_ratio  video_ratio  label  \n",
       "0                 0       0.476190     0.446429      0  \n",
       "1                 0       0.047619     0.053571      0  \n",
       "2                 0       0.450549     0.327434      0  \n",
       "3                 0       0.296703     0.230088      1  \n",
       "4                 0       0.126214     0.219355      0  "
      ]
     },
     "execution_count": 8,
     "metadata": {},
     "output_type": "execute_result"
    }
   ],
   "source": [
    "df.head()"
   ]
  },
  {
   "cell_type": "code",
   "execution_count": 9,
   "metadata": {
    "collapsed": false
   },
   "outputs": [
    {
     "data": {
      "text/plain": [
       "(72395, 17)"
      ]
     },
     "execution_count": 9,
     "metadata": {},
     "output_type": "execute_result"
    }
   ],
   "source": [
    "df.shape"
   ]
  },
  {
   "cell_type": "markdown",
   "metadata": {},
   "source": [
    "## Deal with outliers"
   ]
  },
  {
   "cell_type": "code",
   "execution_count": 19,
   "metadata": {
    "collapsed": false
   },
   "outputs": [
    {
     "data": {
      "text/plain": [
       "(72395, 17)"
      ]
     },
     "execution_count": 19,
     "metadata": {},
     "output_type": "execute_result"
    }
   ],
   "source": [
    "## Using the formula to calculate the outlier\n",
    "## Using Quantile(0.75)+1.5IQR as upper cut-off line (As Boxplot)\n",
    "## Using Quantile(0.25)-1.5IQR as lower cut-off line (As Boxplot)\n",
    "## Transform the outliers to the nearest cut-off line\n",
    "num_feature = list(df.columns[1:-1])\n",
    "for item in num_feature:\n",
    "    Q3 = df[item].quantile(0.75)\n",
    "    Q1 = df[item].quantile(0.25)\n",
    "    IQR = Q3-Q1\n",
    "    upper = Q3+1.5*IQR\n",
    "    lower = Q1-1.5*IQR\n",
    "    df.loc[df[item] > upper, item] = upper\n",
    "    df.loc[df[item] < lower, item] = lower\n",
    "df.shape"
   ]
  },
  {
   "cell_type": "markdown",
   "metadata": {},
   "source": [
    "## Deal with low variance feature"
   ]
  },
  {
   "cell_type": "code",
   "execution_count": 10,
   "metadata": {
    "collapsed": false
   },
   "outputs": [
    {
     "name": "stdout",
     "output_type": "stream",
     "text": [
      "access_count : 0.369840270224\n",
      "discussion_count : 0.117887706116\n",
      "navigate_count : 0.872527472527\n",
      "page_close_count : 0.501494733937\n",
      "problem_count : 0.0370471261237\n",
      "video_count : 0.432727544686\n",
      "wiki_count : 0.197316790613\n",
      "week_one_session : 0.131963839483\n",
      "week_two_session : 0.204539122608\n",
      "week_three_session : 0.164960974833\n",
      "week_four_session : 0.141752727132\n",
      "week_five_session : 0.103509143543\n",
      "week_six_session : 0.00950075302265\n",
      "problem_ratio : 0.0393370209718\n",
      "video_ratio : 0.0727343194884\n"
     ]
    }
   ],
   "source": [
    "## Dropping variables where 95% or more of the values are the same\n",
    "## Find the ratio of the second most frequent value to the most frequent value for each predictor \n",
    "## Remove variables where this ratio was less than 0.05\n",
    "num_feature = list(df.columns[1:-1])\n",
    "for value in num_feature:\n",
    "    freq_set = df[value].value_counts()\n",
    "    max_1 = freq_set.max()\n",
    "    max_2 = 0\n",
    "    for num in freq_set:\n",
    "        if num == max_1:\n",
    "            continue\n",
    "        max_2 = num\n",
    "        break\n",
    "    ratio = max_2/float(max_1)\n",
    "    print value,\":\",ratio\n",
    "    #if ratio < 0.05:\n",
    "        #df = df.drop(value,1)      "
   ]
  },
  {
   "cell_type": "code",
   "execution_count": 23,
   "metadata": {
    "collapsed": false
   },
   "outputs": [
    {
     "data": {
      "text/plain": [
       "(72395, 14)"
      ]
     },
     "execution_count": 23,
     "metadata": {},
     "output_type": "execute_result"
    }
   ],
   "source": [
    "df.shape"
   ]
  },
  {
   "cell_type": "markdown",
   "metadata": {},
   "source": [
    "## Data transformation"
   ]
  },
  {
   "cell_type": "code",
   "execution_count": 24,
   "metadata": {
    "collapsed": false
   },
   "outputs": [
    {
     "data": {
      "text/html": [
       "<div>\n",
       "<style scoped>\n",
       "    .dataframe tbody tr th:only-of-type {\n",
       "        vertical-align: middle;\n",
       "    }\n",
       "\n",
       "    .dataframe tbody tr th {\n",
       "        vertical-align: top;\n",
       "    }\n",
       "\n",
       "    .dataframe thead th {\n",
       "        text-align: right;\n",
       "    }\n",
       "</style>\n",
       "<table border=\"1\" class=\"dataframe\">\n",
       "  <thead>\n",
       "    <tr style=\"text-align: right;\">\n",
       "      <th></th>\n",
       "      <th>enrollment_id</th>\n",
       "      <th>access_count</th>\n",
       "      <th>discussion_count</th>\n",
       "      <th>navigate_count</th>\n",
       "      <th>page_close_count</th>\n",
       "      <th>problem_count</th>\n",
       "      <th>video_count</th>\n",
       "      <th>wiki_count</th>\n",
       "      <th>week_two_session</th>\n",
       "      <th>week_three_session</th>\n",
       "      <th>week_four_session</th>\n",
       "      <th>problem_ratio</th>\n",
       "      <th>video_ratio</th>\n",
       "      <th>label</th>\n",
       "    </tr>\n",
       "  </thead>\n",
       "  <tbody>\n",
       "    <tr>\n",
       "      <th>0</th>\n",
       "      <td>1</td>\n",
       "      <td>61.0</td>\n",
       "      <td>0.0</td>\n",
       "      <td>22.0</td>\n",
       "      <td>25.0</td>\n",
       "      <td>12.5</td>\n",
       "      <td>15.0</td>\n",
       "      <td>0.0</td>\n",
       "      <td>2.5</td>\n",
       "      <td>2.5</td>\n",
       "      <td>2.5</td>\n",
       "      <td>0.04717</td>\n",
       "      <td>0.090909</td>\n",
       "      <td>0</td>\n",
       "    </tr>\n",
       "    <tr>\n",
       "      <th>1</th>\n",
       "      <td>4</td>\n",
       "      <td>61.0</td>\n",
       "      <td>0.0</td>\n",
       "      <td>15.0</td>\n",
       "      <td>8.0</td>\n",
       "      <td>6.0</td>\n",
       "      <td>4.0</td>\n",
       "      <td>0.0</td>\n",
       "      <td>2.5</td>\n",
       "      <td>2.5</td>\n",
       "      <td>0.0</td>\n",
       "      <td>0.04717</td>\n",
       "      <td>0.053571</td>\n",
       "      <td>0</td>\n",
       "    </tr>\n",
       "    <tr>\n",
       "      <th>2</th>\n",
       "      <td>5</td>\n",
       "      <td>61.0</td>\n",
       "      <td>5.0</td>\n",
       "      <td>22.0</td>\n",
       "      <td>25.0</td>\n",
       "      <td>12.5</td>\n",
       "      <td>15.0</td>\n",
       "      <td>0.0</td>\n",
       "      <td>2.5</td>\n",
       "      <td>2.0</td>\n",
       "      <td>2.5</td>\n",
       "      <td>0.04717</td>\n",
       "      <td>0.090909</td>\n",
       "      <td>0</td>\n",
       "    </tr>\n",
       "    <tr>\n",
       "      <th>3</th>\n",
       "      <td>7</td>\n",
       "      <td>61.0</td>\n",
       "      <td>5.0</td>\n",
       "      <td>19.0</td>\n",
       "      <td>25.0</td>\n",
       "      <td>12.5</td>\n",
       "      <td>15.0</td>\n",
       "      <td>0.0</td>\n",
       "      <td>2.5</td>\n",
       "      <td>2.5</td>\n",
       "      <td>2.5</td>\n",
       "      <td>0.04717</td>\n",
       "      <td>0.090909</td>\n",
       "      <td>1</td>\n",
       "    </tr>\n",
       "    <tr>\n",
       "      <th>4</th>\n",
       "      <td>13</td>\n",
       "      <td>61.0</td>\n",
       "      <td>4.0</td>\n",
       "      <td>15.0</td>\n",
       "      <td>25.0</td>\n",
       "      <td>12.5</td>\n",
       "      <td>15.0</td>\n",
       "      <td>0.0</td>\n",
       "      <td>2.5</td>\n",
       "      <td>0.0</td>\n",
       "      <td>2.5</td>\n",
       "      <td>0.04717</td>\n",
       "      <td>0.090909</td>\n",
       "      <td>0</td>\n",
       "    </tr>\n",
       "  </tbody>\n",
       "</table>\n",
       "</div>"
      ],
      "text/plain": [
       "   enrollment_id  access_count  discussion_count  navigate_count  \\\n",
       "0              1          61.0               0.0            22.0   \n",
       "1              4          61.0               0.0            15.0   \n",
       "2              5          61.0               5.0            22.0   \n",
       "3              7          61.0               5.0            19.0   \n",
       "4             13          61.0               4.0            15.0   \n",
       "\n",
       "   page_close_count  problem_count  video_count  wiki_count  week_two_session  \\\n",
       "0              25.0           12.5         15.0         0.0               2.5   \n",
       "1               8.0            6.0          4.0         0.0               2.5   \n",
       "2              25.0           12.5         15.0         0.0               2.5   \n",
       "3              25.0           12.5         15.0         0.0               2.5   \n",
       "4              25.0           12.5         15.0         0.0               2.5   \n",
       "\n",
       "   week_three_session  week_four_session  problem_ratio  video_ratio  label  \n",
       "0                 2.5                2.5        0.04717     0.090909      0  \n",
       "1                 2.5                0.0        0.04717     0.053571      0  \n",
       "2                 2.0                2.5        0.04717     0.090909      0  \n",
       "3                 2.5                2.5        0.04717     0.090909      1  \n",
       "4                 0.0                2.5        0.04717     0.090909      0  "
      ]
     },
     "execution_count": 24,
     "metadata": {},
     "output_type": "execute_result"
    }
   ],
   "source": [
    "df.head()"
   ]
  },
  {
   "cell_type": "markdown",
   "metadata": {},
   "source": [
    "- Normalization Data"
   ]
  },
  {
   "cell_type": "code",
   "execution_count": 86,
   "metadata": {
    "collapsed": false
   },
   "outputs": [],
   "source": [
    "num_feature = list(df.columns[1:-1])\n",
    "for item in num_feature:\n",
    "    df[item]=(df[item]-df[item].min())/(df[item].max()-df[item].min())"
   ]
  },
  {
   "cell_type": "code",
   "execution_count": 87,
   "metadata": {
    "collapsed": false
   },
   "outputs": [
    {
     "data": {
      "text/html": [
       "<div>\n",
       "<style scoped>\n",
       "    .dataframe tbody tr th:only-of-type {\n",
       "        vertical-align: middle;\n",
       "    }\n",
       "\n",
       "    .dataframe tbody tr th {\n",
       "        vertical-align: top;\n",
       "    }\n",
       "\n",
       "    .dataframe thead th {\n",
       "        text-align: right;\n",
       "    }\n",
       "</style>\n",
       "<table border=\"1\" class=\"dataframe\">\n",
       "  <thead>\n",
       "    <tr style=\"text-align: right;\">\n",
       "      <th></th>\n",
       "      <th>enrollment_id</th>\n",
       "      <th>access_count</th>\n",
       "      <th>discussion_count</th>\n",
       "      <th>navigate_count</th>\n",
       "      <th>page_close_count</th>\n",
       "      <th>problem_count</th>\n",
       "      <th>video_count</th>\n",
       "      <th>wiki_count</th>\n",
       "      <th>week_one_event</th>\n",
       "      <th>week_two_event</th>\n",
       "      <th>week_three_event</th>\n",
       "      <th>week_four_event</th>\n",
       "      <th>week_two_session</th>\n",
       "      <th>week_three_session</th>\n",
       "      <th>week_four_session</th>\n",
       "      <th>label</th>\n",
       "    </tr>\n",
       "  </thead>\n",
       "  <tbody>\n",
       "    <tr>\n",
       "      <th>0</th>\n",
       "      <td>1</td>\n",
       "      <td>1.0</td>\n",
       "      <td>0.0</td>\n",
       "      <td>1.000000</td>\n",
       "      <td>1.00</td>\n",
       "      <td>1.0</td>\n",
       "      <td>1.000000</td>\n",
       "      <td>0.0</td>\n",
       "      <td>1.0</td>\n",
       "      <td>1.0</td>\n",
       "      <td>1.000000</td>\n",
       "      <td>1.0</td>\n",
       "      <td>1.0</td>\n",
       "      <td>1.0</td>\n",
       "      <td>1.0</td>\n",
       "      <td>0</td>\n",
       "    </tr>\n",
       "    <tr>\n",
       "      <th>1</th>\n",
       "      <td>4</td>\n",
       "      <td>1.0</td>\n",
       "      <td>0.0</td>\n",
       "      <td>0.681818</td>\n",
       "      <td>0.32</td>\n",
       "      <td>0.5</td>\n",
       "      <td>0.266667</td>\n",
       "      <td>0.0</td>\n",
       "      <td>1.0</td>\n",
       "      <td>1.0</td>\n",
       "      <td>1.000000</td>\n",
       "      <td>0.0</td>\n",
       "      <td>1.0</td>\n",
       "      <td>1.0</td>\n",
       "      <td>0.0</td>\n",
       "      <td>0</td>\n",
       "    </tr>\n",
       "    <tr>\n",
       "      <th>2</th>\n",
       "      <td>5</td>\n",
       "      <td>1.0</td>\n",
       "      <td>1.0</td>\n",
       "      <td>1.000000</td>\n",
       "      <td>1.00</td>\n",
       "      <td>1.0</td>\n",
       "      <td>1.000000</td>\n",
       "      <td>0.0</td>\n",
       "      <td>1.0</td>\n",
       "      <td>1.0</td>\n",
       "      <td>0.470588</td>\n",
       "      <td>1.0</td>\n",
       "      <td>1.0</td>\n",
       "      <td>1.0</td>\n",
       "      <td>1.0</td>\n",
       "      <td>0</td>\n",
       "    </tr>\n",
       "    <tr>\n",
       "      <th>3</th>\n",
       "      <td>7</td>\n",
       "      <td>1.0</td>\n",
       "      <td>1.0</td>\n",
       "      <td>0.863636</td>\n",
       "      <td>1.00</td>\n",
       "      <td>1.0</td>\n",
       "      <td>1.000000</td>\n",
       "      <td>0.0</td>\n",
       "      <td>1.0</td>\n",
       "      <td>1.0</td>\n",
       "      <td>1.000000</td>\n",
       "      <td>1.0</td>\n",
       "      <td>1.0</td>\n",
       "      <td>1.0</td>\n",
       "      <td>1.0</td>\n",
       "      <td>1</td>\n",
       "    </tr>\n",
       "    <tr>\n",
       "      <th>4</th>\n",
       "      <td>13</td>\n",
       "      <td>1.0</td>\n",
       "      <td>0.8</td>\n",
       "      <td>0.681818</td>\n",
       "      <td>1.00</td>\n",
       "      <td>1.0</td>\n",
       "      <td>1.000000</td>\n",
       "      <td>0.0</td>\n",
       "      <td>0.0</td>\n",
       "      <td>1.0</td>\n",
       "      <td>0.000000</td>\n",
       "      <td>1.0</td>\n",
       "      <td>1.0</td>\n",
       "      <td>0.0</td>\n",
       "      <td>1.0</td>\n",
       "      <td>0</td>\n",
       "    </tr>\n",
       "  </tbody>\n",
       "</table>\n",
       "</div>"
      ],
      "text/plain": [
       "   enrollment_id  access_count  discussion_count  navigate_count  \\\n",
       "0              1           1.0               0.0        1.000000   \n",
       "1              4           1.0               0.0        0.681818   \n",
       "2              5           1.0               1.0        1.000000   \n",
       "3              7           1.0               1.0        0.863636   \n",
       "4             13           1.0               0.8        0.681818   \n",
       "\n",
       "   page_close_count  problem_count  video_count  wiki_count  week_one_event  \\\n",
       "0              1.00            1.0     1.000000         0.0             1.0   \n",
       "1              0.32            0.5     0.266667         0.0             1.0   \n",
       "2              1.00            1.0     1.000000         0.0             1.0   \n",
       "3              1.00            1.0     1.000000         0.0             1.0   \n",
       "4              1.00            1.0     1.000000         0.0             0.0   \n",
       "\n",
       "   week_two_event  week_three_event  week_four_event  week_two_session  \\\n",
       "0             1.0          1.000000              1.0               1.0   \n",
       "1             1.0          1.000000              0.0               1.0   \n",
       "2             1.0          0.470588              1.0               1.0   \n",
       "3             1.0          1.000000              1.0               1.0   \n",
       "4             1.0          0.000000              1.0               1.0   \n",
       "\n",
       "   week_three_session  week_four_session  label  \n",
       "0                 1.0                1.0      0  \n",
       "1                 1.0                0.0      0  \n",
       "2                 1.0                1.0      0  \n",
       "3                 1.0                1.0      1  \n",
       "4                 0.0                1.0      0  "
      ]
     },
     "execution_count": 87,
     "metadata": {},
     "output_type": "execute_result"
    }
   ],
   "source": [
    "df.head()"
   ]
  },
  {
   "cell_type": "code",
   "execution_count": null,
   "metadata": {
    "collapsed": true
   },
   "outputs": [],
   "source": []
  }
 ],
 "metadata": {
  "anaconda-cloud": {},
  "kernelspec": {
   "display_name": "Python [Root]",
   "language": "python",
   "name": "Python [Root]"
  },
  "language_info": {
   "codemirror_mode": {
    "name": "ipython",
    "version": 2
   },
   "file_extension": ".py",
   "mimetype": "text/x-python",
   "name": "python",
   "nbconvert_exporter": "python",
   "pygments_lexer": "ipython2",
   "version": "2.7.12"
  }
 },
 "nbformat": 4,
 "nbformat_minor": 2
}
